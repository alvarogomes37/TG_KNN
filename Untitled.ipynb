{
 "cells": [
  {
   "cell_type": "code",
   "execution_count": 1,
   "id": "c8a43e80-cc6a-4532-adb5-2bc78c10faf3",
   "metadata": {},
   "outputs": [],
   "source": [
    "import numpy as np\n",
    "import pandas as pd\n",
    "import collections\n",
    "import matplotlib.pyplot as plt"
   ]
  },
  {
   "cell_type": "code",
   "execution_count": 2,
   "id": "c7a36f2d-7d76-41c9-9e5e-ec162244f318",
   "metadata": {},
   "outputs": [],
   "source": [
    "def calc_dist(ponto_a,ponto_b):\n",
    "    \"\"\" Calculo da Distância Euclidiana entre os Pontos A e B\"\"\"\n",
    "    return np.sqrt(np.sum(np.square(ponto_a-ponto_b)))"
   ]
  },
  {
   "cell_type": "code",
   "execution_count": 3,
   "id": "1101e26d-dff4-4bc4-a548-bc7e41fe6586",
   "metadata": {},
   "outputs": [],
   "source": [
    "dataset = pd.read_csv(r'C:\\Users\\Asus\\Desktop\\prog_knn\\iris_csv.csv')"
   ]
  },
  {
   "cell_type": "code",
   "execution_count": 4,
   "id": "035d9b45-6d24-46ea-80ea-9c50fa3cefa4",
   "metadata": {},
   "outputs": [],
   "source": [
    "#Trocar os nomes das classes na coluna class por numeros\n",
    "dataset.loc[dataset['class'] == \"Iris-setosa\",'class'] = 0\n",
    "dataset.loc[dataset['class'] == \"Iris-versicolor\",'class'] = 1\n",
    "dataset.loc[dataset['class'] == \"Iris-virginica\",'class'] = 2"
   ]
  },
  {
   "cell_type": "code",
   "execution_count": 5,
   "id": "d1fae4f2-f3ff-403c-b927-31c04f975040",
   "metadata": {},
   "outputs": [],
   "source": [
    "#The next step is to split our dataset into its attributes and labels. To do so, use the following code:\n",
    "\n",
    "#The X variable contains the first four columns of the dataset (i.e. attributes) while y contains the labels.\n",
    "\n",
    "X = dataset.iloc[:, :-1].values\n",
    "y = dataset.iloc[:, 4].values"
   ]
  },
  {
   "cell_type": "code",
   "execution_count": 8,
   "id": "36292718-5cbc-4855-90f4-3c30ebf123e9",
   "metadata": {},
   "outputs": [],
   "source": [
    "def predict(v,X=X,y=y,K=3):\n",
    "    distancias=[calc_dist(v,X[i,:]) for i in range(len(X))]\n",
    "    \n",
    "    k_vetor_mais_proximo=np.argsort(distancias)[:K] \n",
    "    \n",
    "    k_label_mais_proximo=[y[i] for i in k_vetor_mais_proximo]\n",
    "    \n",
    "    label_output=collections.Counter(k_label_mais_proximo).most_common(1)[0][0]\n",
    "    #print(k_vetor_mais_proximo)\n",
    "    #print(k_label_mais_proximo)\n",
    "    #print(label_output)\n",
    "    \n",
    "    return label_output"
   ]
  },
  {
   "cell_type": "code",
   "execution_count": 9,
   "id": "74e9c0c1-9201-449f-9f0b-e705506a1544",
   "metadata": {},
   "outputs": [
    {
     "data": {
      "text/plain": [
       "0"
      ]
     },
     "execution_count": 9,
     "metadata": {},
     "output_type": "execute_result"
    }
   ],
   "source": [
    "v = [[1.4, 3.6, 3.4, 1.2]]\n",
    "predict(v)"
   ]
  },
  {
   "cell_type": "code",
   "execution_count": null,
   "id": "e3c7cd49-5550-4667-bc7f-8548aeee7c32",
   "metadata": {},
   "outputs": [],
   "source": []
  },
  {
   "cell_type": "code",
   "execution_count": null,
   "id": "34bd092f-13ae-40e4-864b-0870ba153f43",
   "metadata": {},
   "outputs": [],
   "source": []
  }
 ],
 "metadata": {
  "kernelspec": {
   "display_name": "Python 3 (ipykernel)",
   "language": "python",
   "name": "python3"
  },
  "language_info": {
   "codemirror_mode": {
    "name": "ipython",
    "version": 3
   },
   "file_extension": ".py",
   "mimetype": "text/x-python",
   "name": "python",
   "nbconvert_exporter": "python",
   "pygments_lexer": "ipython3",
   "version": "3.9.7"
  }
 },
 "nbformat": 4,
 "nbformat_minor": 5
}
