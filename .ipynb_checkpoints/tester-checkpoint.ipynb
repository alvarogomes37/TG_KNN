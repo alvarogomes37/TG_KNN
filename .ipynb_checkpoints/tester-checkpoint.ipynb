{
 "cells": [
  {
   "cell_type": "code",
   "execution_count": 1,
   "id": "2cce18e2-8d41-4772-9ba7-732128a9bdcf",
   "metadata": {},
   "outputs": [],
   "source": [
    "import numpy as np\n",
    "import pandas as pd\n",
    "import collections\n",
    "from sklearn.model_selection import train_test_split\n",
    "from KNN import KNN_example\n",
    "import seaborn as sns\n",
    "import matplotlib.pyplot as plt\n",
    "\n",
    "SEED = 50"
   ]
  },
  {
   "cell_type": "code",
   "execution_count": 2,
   "id": "40bc8d56-325c-47fd-ba1d-5a87cfafae43",
   "metadata": {},
   "outputs": [],
   "source": [
    "dataset = pd.read_csv(r'C:\\Users\\Asus\\Desktop\\TG\\TG_KNN\\iris_csv.csv')"
   ]
  },
  {
   "cell_type": "code",
   "execution_count": 3,
   "id": "003caad7-bade-4743-bed2-396963168f7f",
   "metadata": {},
   "outputs": [],
   "source": [
    "X = dataset.iloc[:, :-1].values\n",
    "y = dataset.iloc[:, 4].values"
   ]
  },
  {
   "cell_type": "code",
   "execution_count": 4,
   "id": "b795909a-9a4e-42a1-a331-b1dcc6772d16",
   "metadata": {},
   "outputs": [],
   "source": [
    "X_train, X_test, y_train, y_test = train_test_split(X, y, test_size=int(X.shape[0]*0.2), random_state=SEED)"
   ]
  },
  {
   "cell_type": "code",
   "execution_count": 5,
   "id": "b7b21204-9821-418a-9ef0-bb9e5cd94f3e",
   "metadata": {},
   "outputs": [
    {
     "data": {
      "image/png": "[encoded data removed]",
      "text/plain": [
       "<Figure size 319.25x216 with 1 Axes>"
      ]
     },
     "metadata": {
      "needs_background": "light"
     },
     "output_type": "display_data"
    }
   ],
   "source": [
    "graf=sns.FacetGrid(dataset, hue='class').map(plt.scatter,'sepallength','sepalwidth').add_legend()"
   ]
  },
  {
   "cell_type": "code",
   "execution_count": 6,
   "id": "a15660da-9daa-4407-8185-5c2a9815a90d",
   "metadata": {},
   "outputs": [],
   "source": [
    "modelo = KNN_example(3)"
   ]
  },
  {
   "cell_type": "code",
   "execution_count": 7,
   "id": "3092b6b4-2d68-41c0-8472-1070c6ac2f10",
   "metadata": {},
   "outputs": [],
   "source": [
    "train_data = np.append(X_train, np.reshape(y_train, (y_train.shape[0],1)), axis=1)"
   ]
  },
  {
   "cell_type": "code",
   "execution_count": 8,
   "id": "e7db1d58-80fe-4912-864e-890abe9a6c8c",
   "metadata": {},
   "outputs": [
    {
     "name": "stdout",
     "output_type": "stream",
     "text": [
      "[1.72338412 0.56902277 1.59004914 1.81306031]\n"
     ]
    }
   ],
   "source": [
    "# Gerar uma lista de 4 valores (estes valores são float)\n",
    "v=(np.random.random_sample(size = 4)*4.5)\n",
    "\n",
    "print(v)\n",
    " "
   ]
  },
  {
   "cell_type": "code",
   "execution_count": 9,
   "id": "3b377e22-0707-402c-bac0-12531c5a2af0",
   "metadata": {},
   "outputs": [],
   "source": [
    "z=np.asarray(v)"
   ]
  },
  {
   "cell_type": "code",
   "execution_count": 10,
   "id": "e434572b-dbc6-497b-8865-c77d100745ee",
   "metadata": {},
   "outputs": [
    {
     "name": "stdout",
     "output_type": "stream",
     "text": [
      "O tipo da Iris é 0.\n",
      "Sendo que:\n",
      "0 é Setosa\n",
      "1 é Versicolor\n",
      "2 é Virginica\n"
     ]
    }
   ],
   "source": [
    "T=modelo.predict(z)\n",
    "\n",
    "print(f'O tipo da Iris é {T}.\\nSendo que:\\n0 é Setosa\\n1 é Versicolor\\n2 é Virginica')"
   ]
  },
  {
   "cell_type": "code",
   "execution_count": null,
   "id": "bebca362-30aa-4f30-8670-289092da32ea",
   "metadata": {},
   "outputs": [],
   "source": []
  },
  {
   "cell_type": "code",
   "execution_count": null,
   "id": "d666091a-5b35-4996-ba9a-4e82fa0e999e",
   "metadata": {},
   "outputs": [],
   "source": []
  },
  {
   "cell_type": "code",
   "execution_count": null,
   "id": "81127e97-325e-4b8c-b88f-dea1d688313c",
   "metadata": {},
   "outputs": [],
   "source": []
  }
 ],
 "metadata": {
  "kernelspec": {
   "display_name": "Python 3 (ipykernel)",
   "language": "python",
   "name": "python3"
  },
  "language_info": {
   "codemirror_mode": {
    "name": "ipython",
    "version": 3
   },
   "file_extension": ".py",
   "mimetype": "text/x-python",
   "name": "python",
   "nbconvert_exporter": "python",
   "pygments_lexer": "ipython3",
   "version": "3.9.7"
  }
 },
 "nbformat": 4,
 "nbformat_minor": 5
}
