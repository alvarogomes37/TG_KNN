{
 "cells": [
  {
   "cell_type": "code",
   "execution_count": null,
   "id": "2cce18e2-8d41-4772-9ba7-732128a9bdcf",
   "metadata": {},
   "outputs": [],
   "source": []
  },
  {
   "cell_type": "code",
   "execution_count": 2,
   "id": "6b63e1bc-89ae-4277-aecd-d858bf6d672f",
   "metadata": {},
   "outputs": [
    {
     "name": "stdout",
     "output_type": "stream",
     "text": [
      "Requirement already satisfied: numpy in c:\\programdata\\anaconda3\\envs\\jupyterlab\\lib\\site-packages (1.21.4)\n"
     ]
    }
   ],
   "source": [
    "!pip install numpy"
   ]
  },
  {
   "cell_type": "code",
   "execution_count": 1,
   "id": "4e6117e3-4191-4cc5-b0c5-84b10eaa9b4f",
   "metadata": {},
   "outputs": [],
   "source": [
    "import numpy as np"
   ]
  },
  {
   "cell_type": "code",
   "execution_count": 2,
   "id": "a8129669-166b-483a-91df-2ae0a3b822e3",
   "metadata": {},
   "outputs": [],
   "source": [
    "def distancia_euclideana(ponto_a, ponto_b):\n",
    "    \"\"\"devolve a distancia entre os pontos A e B\"\"\"\n",
    "    return np.sqrt(np.sum(np.square(ponto_a-ponto_b)))"
   ]
  },
  {
   "cell_type": "code",
   "execution_count": 3,
   "id": "8386acc7-0b52-4174-8986-026b6a954273",
   "metadata": {},
   "outputs": [
    {
     "data": {
      "text/plain": [
       "3.4641016151377544"
      ]
     },
     "execution_count": 3,
     "metadata": {},
     "output_type": "execute_result"
    }
   ],
   "source": [
    "np.sqrt(np.sum(np.square(np.array([2,3,4])-np.array([0,1,2]))))"
   ]
  },
  {
   "cell_type": "code",
   "execution_count": 4,
   "id": "48cebeaf-22d4-4bbb-b02e-6b71e2597958",
   "metadata": {},
   "outputs": [
    {
     "data": {
      "text/plain": [
       "3.4641016151377544"
      ]
     },
     "execution_count": 4,
     "metadata": {},
     "output_type": "execute_result"
    }
   ],
   "source": [
    "ponto_a=np.array([2,3,4])\n",
    "ponto_b=np.array([0,1,2])\n",
    "\n",
    "distancia_euclideana(ponto_a, ponto_b)"
   ]
  },
  {
   "cell_type": "code",
   "execution_count": 5,
   "id": "36fb5d74-1671-481b-a123-e4bc494dfc37",
   "metadata": {},
   "outputs": [
    {
     "data": {
      "text/plain": [
       "0.14658118670542986"
      ]
     },
     "execution_count": 5,
     "metadata": {},
     "output_type": "execute_result"
    }
   ],
   "source": [
    "np.random.rand()"
   ]
  },
  {
   "cell_type": "code",
   "execution_count": 6,
   "id": "0cbb905d-5918-4570-91d6-e8173c0f4f8d",
   "metadata": {},
   "outputs": [
    {
     "data": {
      "text/plain": [
       "0.915915516253651"
      ]
     },
     "execution_count": 6,
     "metadata": {},
     "output_type": "execute_result"
    }
   ],
   "source": [
    "np.random.rand()*2"
   ]
  },
  {
   "cell_type": "code",
   "execution_count": 7,
   "id": "40bc8d56-325c-47fd-ba1d-5a87cfafae43",
   "metadata": {},
   "outputs": [],
   "source": [
    "from KNN import KNN_example"
   ]
  },
  {
   "cell_type": "code",
   "execution_count": 8,
   "id": "003caad7-bade-4743-bed2-396963168f7f",
   "metadata": {},
   "outputs": [],
   "source": [
    "model=KNN_example(2)"
   ]
  },
  {
   "cell_type": "code",
   "execution_count": 9,
   "id": "b0025100-1dca-480f-bc51-1b337ffb9260",
   "metadata": {},
   "outputs": [
    {
     "data": {
      "text/plain": [
       "2"
      ]
     },
     "execution_count": 9,
     "metadata": {},
     "output_type": "execute_result"
    }
   ],
   "source": [
    "model.K"
   ]
  },
  {
   "cell_type": "code",
   "execution_count": 10,
   "id": "cb2b56fc-f904-4a5b-b4e9-7800aded542c",
   "metadata": {},
   "outputs": [
    {
     "data": {
      "text/plain": [
       "1000"
      ]
     },
     "execution_count": 10,
     "metadata": {},
     "output_type": "execute_result"
    }
   ],
   "source": [
    "model.max_iterations"
   ]
  },
  {
   "cell_type": "code",
   "execution_count": 11,
   "id": "779fed31-bde5-4bb4-ad3a-135ee4ad8bcd",
   "metadata": {},
   "outputs": [],
   "source": [
    "data_1=np.random.rand(1000,3)*8\n",
    "data_2=np.random.rand(1000,3)*10\n",
    "data=np.append(data_1, data_2,axis=0)"
   ]
  },
  {
   "cell_type": "code",
   "execution_count": 12,
   "id": "d975847c-bc33-48a4-b355-d8bdc29294f3",
   "metadata": {},
   "outputs": [],
   "source": [
    "model.fit(data)"
   ]
  },
  {
   "cell_type": "code",
   "execution_count": 13,
   "id": "4fb9bee0-8ab2-4cc4-bb5f-2cbb8a3dadae",
   "metadata": {},
   "outputs": [
    {
     "data": {
      "text/plain": [
       "[array([4.20315779, 4.53689515, 4.63742476]),\n",
       " array([4.77401757, 4.44078655, 4.33221611])]"
      ]
     },
     "execution_count": 13,
     "metadata": {},
     "output_type": "execute_result"
    }
   ],
   "source": [
    "model.centroides"
   ]
  },
  {
   "cell_type": "code",
   "execution_count": null,
   "id": "b795909a-9a4e-42a1-a331-b1dcc6772d16",
   "metadata": {},
   "outputs": [],
   "source": []
  }
 ],
 "metadata": {
  "kernelspec": {
   "display_name": "Python 3 (ipykernel)",
   "language": "python",
   "name": "python3"
  },
  "language_info": {
   "codemirror_mode": {
    "name": "ipython",
    "version": 3
   },
   "file_extension": ".py",
   "mimetype": "text/x-python",
   "name": "python",
   "nbconvert_exporter": "python",
   "pygments_lexer": "ipython3",
   "version": "3.9.7"
  }
 },
 "nbformat": 4,
 "nbformat_minor": 5
}
