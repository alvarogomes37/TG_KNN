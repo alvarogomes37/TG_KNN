{
 "cells": [
  {
   "cell_type": "code",
   "execution_count": 8,
   "id": "2cce18e2-8d41-4772-9ba7-732128a9bdcf",
   "metadata": {},
   "outputs": [],
   "source": [
    "import numpy as np\n",
    "import pandas as pd\n",
    "import collections\n",
    "import matplotlib.pyplot as plt"
   ]
  },
  {
   "cell_type": "code",
   "execution_count": 11,
   "id": "40bc8d56-325c-47fd-ba1d-5a87cfafae43",
   "metadata": {},
   "outputs": [],
   "source": [
    "from KNN import KNN_example"
   ]
  },
  {
   "cell_type": "code",
   "execution_count": 16,
   "id": "003caad7-bade-4743-bed2-396963168f7f",
   "metadata": {},
   "outputs": [],
   "source": [
    "model = KNN_example"
   ]
  },
  {
   "cell_type": "code",
   "execution_count": null,
   "id": "b795909a-9a4e-42a1-a331-b1dcc6772d16",
   "metadata": {},
   "outputs": [],
   "source": []
  },
  {
   "cell_type": "code",
   "execution_count": null,
   "id": "b7b21204-9821-418a-9ef0-bb9e5cd94f3e",
   "metadata": {},
   "outputs": [],
   "source": []
  }
 ],
 "metadata": {
  "kernelspec": {
   "display_name": "Python 3 (ipykernel)",
   "language": "python",
   "name": "python3"
  },
  "language_info": {
   "codemirror_mode": {
    "name": "ipython",
    "version": 3
   },
   "file_extension": ".py",
   "mimetype": "text/x-python",
   "name": "python",
   "nbconvert_exporter": "python",
   "pygments_lexer": "ipython3",
   "version": "3.9.7"
  }
 },
 "nbformat": 4,
 "nbformat_minor": 5
}
